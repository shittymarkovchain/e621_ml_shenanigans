{
  "nbformat": 4,
  "nbformat_minor": 0,
  "metadata": {
    "colab": {
      "name": "Untitled.ipynb",
      "version": "0.3.2",
      "provenance": []
    },
    "language_info": {
      "codemirror_mode": {
        "name": "ipython",
        "version": 3
      },
      "file_extension": ".py",
      "mimetype": "text/x-python",
      "name": "python",
      "nbconvert_exporter": "python",
      "pygments_lexer": "ipython3",
      "version": "3.7.3"
    },
    "kernelspec": {
      "name": "python3",
      "display_name": "Python 3"
    },
    "accelerator": "GPU"
  },
  "cells": [
    {
      "cell_type": "code",
      "metadata": {
        "id": "xYUVF5faxGh9",
        "colab_type": "code",
        "colab": {}
      },
      "source": [
        "import requests\n",
        "import json\n",
        "import pandas as pd\n",
        "import numpy as np\n",
        "import time\n",
        "from collections import defaultdict\n",
        "import pickle\n",
        "from pathlib import Path\n",
        "import dask.dataframe as dd"
      ],
      "execution_count": 0,
      "outputs": []
    },
    {
      "cell_type": "code",
      "metadata": {
        "id": "A9tbPiT10kQT",
        "colab_type": "code",
        "colab": {}
      },
      "source": [
        "from google.colab import drive\n",
        "drive.mount('/content/gdrive')"
      ],
      "execution_count": 0,
      "outputs": []
    },
    {
      "cell_type": "code",
      "metadata": {
        "id": "j390eowK0vuh",
        "colab_type": "code",
        "colab": {}
      },
      "source": [
        "ROOT = '/content/gdrive/My Drive/ML/stuff'\n",
        "DATA = f'{ROOT}/data/'\n",
        "OUT = f'{ROOT}/out'\n",
        "\n",
        "if not Path(OUT).exists():\n",
        "    ! mkdir \"$OUT\""
      ],
      "execution_count": 0,
      "outputs": []
    },
    {
      "cell_type": "code",
      "metadata": {
        "id": "ACrY2k9-xGiJ",
        "colab_type": "code",
        "colab": {}
      },
      "source": [
        "\n",
        "url = \"http://e621.net\"\n",
        "username = \"\"\n",
        "project_name = \"RandomStats/1.0\"\n",
        "headers = {\n",
        "    'User-Agent': f\"{project_name} {username}\"\n",
        "}\n",
        "keys = [\"rating\", \"author\", \"id\", \"sample_url\", \"score\", \"fav_count\", \"tags\", \"file_url\"]\n",
        "\n",
        "rows = []\n",
        "\n",
        "\n",
        "def clean(x):\n",
        "    if type(x) == int:\n",
        "        return x\n",
        "    return x.encode('ascii', 'ignore').strip()\n",
        "\n",
        "\n",
        "first_id = 1872005"
      ],
      "execution_count": 0,
      "outputs": []
    },
    {
      "cell_type": "code",
      "metadata": {
        "id": "02hKSk2cxGiP",
        "colab_type": "code",
        "colab": {}
      },
      "source": [
        "for i, u in enumerate(users):\n",
        "    id = first_id\n",
        "    print(u)\n",
        "    while id > 0:\n",
        "        post_url = url + f\"/post/index.json?before_id={id}&limit=320&tags=fav:{u}\"\n",
        "        while True:\n",
        "            time.sleep(1)\n",
        "            try:\n",
        "                r = requests.get(post_url, headers=headers)\n",
        "                if r.status_code == 200:\n",
        "                    break\n",
        "            except Exception as e:\n",
        "                print(e)\n",
        "        str = r.content\n",
        "        content = json.loads(str)\n",
        "        for post in content:\n",
        "            entry = {key: clean(post[key]) for key in keys}\n",
        "            id = entry[\"id\"]\n",
        "            users[u].add(id)\n",
        "        print(id)\n",
        "        if len(content) < 320:\n",
        "            break\n",
        "    print(f\"{i} / {len(users)}\")"
      ],
      "execution_count": 0,
      "outputs": []
    },
    {
      "cell_type": "code",
      "metadata": {
        "id": "_3hFGslbiBc6",
        "colab_type": "code",
        "colab": {}
      },
      "source": [
        "users2 = {}\n",
        "for u in users:\n",
        "    if len(users[u]) > 100:\n",
        "        users2[u] = users[u]\n",
        "len(users2)\n",
        "users = users2\n",
        "len(users)"
      ],
      "execution_count": 0,
      "outputs": []
    },
    {
      "cell_type": "code",
      "metadata": {
        "id": "LjW3TK97xGiU",
        "colab_type": "code",
        "colab": {}
      },
      "source": [
        "\n",
        "while id > 1000:\n",
        "    post_url = url + \"/post/index.json?before_id={}&limit=320\".format(id)\n",
        "    while True:\n",
        "        time.sleep(1)\n",
        "        try:\n",
        "            r = requests.get(post_url, headers=headers)\n",
        "            if r.status_code == 200:\n",
        "                break\n",
        "        except Exception as e:\n",
        "            print(e)\n",
        "    str = r.content\n",
        "    content = json.loads(str)\n",
        "    for post in content:\n",
        "        entry = {key: clean(post[key]) for key in keys}\n",
        "        rows.append(entry)\n",
        "        id = entry[\"id\"]\n"
      ],
      "execution_count": 0,
      "outputs": []
    },
    {
      "cell_type": "code",
      "metadata": {
        "id": "Jly2imonxGia",
        "colab_type": "code",
        "colab": {}
      },
      "source": [
        "df = pd.DataFrame(rows)\n",
        "df.to_csv(\"out.csv\")"
      ],
      "execution_count": 0,
      "outputs": []
    },
    {
      "cell_type": "code",
      "metadata": {
        "id": "D1vQcLbVxGie",
        "colab_type": "code",
        "colab": {}
      },
      "source": [
        "df = pd.read_csv(f\"{DATA}/data.csv\")\n",
        "len(df)"
      ],
      "execution_count": 0,
      "outputs": []
    },
    {
      "cell_type": "code",
      "metadata": {
        "id": "9-xU1VsRxGiw",
        "colab_type": "code",
        "colab": {}
      },
      "source": [
        "users = defaultdict(lambda: [])\n",
        "index = 0"
      ],
      "execution_count": 0,
      "outputs": []
    },
    {
      "cell_type": "code",
      "metadata": {
        "id": "PTmT9A9ixGi0",
        "colab_type": "code",
        "colab": {}
      },
      "source": [
        "index = 0"
      ],
      "execution_count": 0,
      "outputs": []
    },
    {
      "cell_type": "code",
      "metadata": {
        "id": "HjqrQrihxGi7",
        "colab_type": "code",
        "colab": {}
      },
      "source": [
        "\n",
        "while index < len(ids):\n",
        "    id = ids[index]\n",
        "    post_url = url + \"/favorite/list_users.json?id={}\".format(id)\n",
        "    while True:\n",
        "        time.sleep(1)\n",
        "        try:\n",
        "            r = requests.get(post_url, headers=headers)\n",
        "            if r.status_code == 200:\n",
        "                break\n",
        "        except Exception as e:\n",
        "            print(e)\n",
        "    str = r.content\n",
        "    content = json.loads(str)\n",
        "    for user in content[\"favorited_users\"].split(\",\"):\n",
        "        users[user].append(id)\n",
        "    index += 1\n",
        "\n"
      ],
      "execution_count": 0,
      "outputs": []
    },
    {
      "cell_type": "code",
      "metadata": {
        "id": "dbSWl8lFxGjA",
        "colab_type": "code",
        "colab": {}
      },
      "source": [
        "pickle.dump(dict(users), open(f\"{DATA}/users.p\", \"wb\" ) )"
      ],
      "execution_count": 0,
      "outputs": []
    },
    {
      "cell_type": "code",
      "metadata": {
        "id": "2yT17zJyxGjG",
        "colab_type": "code",
        "colab": {}
      },
      "source": [
        "users = pickle.load(open(f\"{DATA}/users.p\", \"rb\"))"
      ],
      "execution_count": 0,
      "outputs": []
    },
    {
      "cell_type": "code",
      "metadata": {
        "id": "SsXzbDgZSaFi",
        "colab_type": "code",
        "colab": {}
      },
      "source": [
        ""
      ],
      "execution_count": 0,
      "outputs": []
    },
    {
      "cell_type": "code",
      "metadata": {
        "id": "Nj3bxLbmxGjV",
        "colab_type": "code",
        "colab": {}
      },
      "source": [
        "df[\"tags_split\"] = df[\"tags\"].apply(lambda x: set(x.split()))\n",
        "df = df.drop(columns=[\"tags\"])"
      ],
      "execution_count": 0,
      "outputs": []
    }
  ]
}